{
 "cells": [
  {
   "cell_type": "code",
   "execution_count": 22,
   "id": "a7a70efb-c3b8-4056-81f6-c950827b181a",
   "metadata": {},
   "outputs": [
    {
     "name": "stdout",
     "output_type": "stream",
     "text": [
      "Inverted lookup converted to list in 21.931865215301514 seconds\n"
     ]
    }
   ],
   "source": [
    "\n",
    "\n",
    "import os\n",
    "import json\n",
    "import copy\n",
    "import numpy as np\n",
    "import random\n",
    "import string\n",
    "import pickle5 # to read\n",
    "import sys\n",
    "import time\n",
    "import pickle # to export\n",
    "import pandas as pd\n",
    "from google.cloud import storage\n",
    "import psutil\n",
    "import argparse\n",
    "from datetime import datetime\n",
    "import ast\n",
    "import requests\n",
    "import polars as pl\n",
    "\n",
    "\n",
    "sys.path.append('/home/jupyter/connectivity/funcs')\n",
    "from src import *\n",
    "\n",
    "\n",
    "client = storage.Client()\n",
    "project_id='dft-dst-prt-connectivitymetric'\n",
    "bucket_name = 'hack-bucket-8204707942'\n",
    "bucket = client.get_bucket(bucket_name)\n",
    "\n",
    "py_nodes_latlong = pl.read_parquet('gs://connectivity-processing-files/walk_nodes.parquet')\n",
    "\n",
    "blob = bucket.blob(f'inverted_key_position_lookup_6am_{YEAR}.json')\n",
    "pickle_in = blob.download_as_string()\n",
    "inverted_key_position_lookup = pickle.loads(pickle_in)\n",
    "\n",
    "\n",
    "# Convert dict to integer; check keys are fully sequential, then make lookup as list (which is safe because it's sequential): faster subset than dict for faster postproc\n",
    "t_begin_list_conversion = time.time()\n",
    "converted_inverted_key_pos = {int(k): int(v) for k, v in inverted_key_position_lookup.items()}\n",
    "lk = list(converted_inverted_key_pos.keys())\n",
    "assert len(set(np.linspace(lk[0], lk[-1], len(lk)).astype(int)) - set(lk)) == 0 \n",
    "assert len(set(lk) - set(np.linspace(lk[0], lk[-1], len(lk)).astype(int))) == 0\n",
    "\n",
    "inverted_lookup_list = []\n",
    "for i in range(len(lk)):\n",
    "    inverted_lookup_list.append(converted_inverted_key_pos[i])\n",
    "print(f'Inverted lookup converted to list in {time.time() - t_begin_list_conversion} seconds')\n",
    "\n",
    "\n",
    "\n",
    "## check id is sequential for py_nodes_latlong\n",
    "py_nodes_set = set(py_nodes_latlong['id'].to_list())\n",
    "seq_set = set(range(len(py_nodes_latlong)))\n",
    "assert len(py_nodes_set - seq_set) == 0\n",
    "assert len(seq_set - py_nodes_set) == 0\n",
    "\n",
    "\n",
    "\n",
    "#### And metanodes and subndoes\n",
    "metanode_to_longlat_lookup = read_pickle_file('metanode_to_longlat_lookup.pickle')\n",
    "subnode_to_longlat_lookup = read_pickle_file('node_to_stop_info_lookup.pickle')\n",
    "\n"
   ]
  },
  {
   "cell_type": "code",
   "execution_count": 24,
   "id": "4f045585-f68c-42e2-8eb6-af6e27e2be1e",
   "metadata": {},
   "outputs": [
    {
     "name": "stdout",
     "output_type": "stream",
     "text": [
      "0 1.52587890625e-05\n",
      "1000000 7.668939828872681\n",
      "2000000 11.88284707069397\n",
      "3000000 60.19865322113037\n",
      "4000000 130.45489621162415\n",
      "5000000 201.08491110801697\n",
      "6000000 271.9488043785095\n",
      "7000000 357.34521293640137\n",
      "8000000 428.02445697784424\n",
      "9000000 499.26256346702576\n",
      "10000000 570.3845465183258\n",
      "11000000 643.3438491821289\n",
      "12000000 714.5774977207184\n",
      "CPU times: user 26min 6s, sys: 24min 17s, total: 50min 24s\n",
      "Wall time: 11min 59s\n"
     ]
    }
   ],
   "source": [
    "%%time\n",
    "s = time.time()\n",
    "rust_lookup_latlong_list = []\n",
    "for i in range(len(inverted_lookup_list)):\n",
    "    py_node_id = inverted_lookup_list[i]\n",
    "    \n",
    "    # get latlong if walking node\n",
    "    if py_node_id < 50_000_000:\n",
    "        long_lat = py_nodes_latlong[py_node_id][['longitude', 'latitude']].to_numpy().tolist()[0]\n",
    "        \n",
    "        # add 0 to show it's a walking link\n",
    "        long_lat.append(0)\n",
    "        \n",
    "    # get latlong if metanode or subnode\n",
    "    else:\n",
    "        try:\n",
    "            node_info_dict = metanode_to_longlat_lookup[py_node_id]\n",
    "        except KeyError:\n",
    "            node_info_dict = subnode_to_longlat_lookup[py_node_id]\n",
    "            \n",
    "        # add 1 \n",
    "        long_lat = [node_info_dict['longitude'], node_info_dict['latitude'], 1]\n",
    "    rust_lookup_latlong_list.append(long_lat)\n",
    "    \n",
    "    if i % 1_000_000 == 0:\n",
    "        print(i, time.time() - s)\n",
    "    \n",
    "    \n",
    "\n",
    "  \n"
   ]
  },
  {
   "cell_type": "code",
   "execution_count": 25,
   "id": "eabbb243-4845-477b-a780-d197b12fdfff",
   "metadata": {},
   "outputs": [
    {
     "name": "stdout",
     "output_type": "stream",
     "text": [
      "CPU times: user 8.1 s, sys: 3.35 s, total: 11.5 s\n",
      "Wall time: 14.6 s\n"
     ]
    }
   ],
   "source": [
    "%%time\n",
    "save_pickle_file(rust_lookup_latlong_list, 'rust_lookup_long_lat_pt_class_list.pickle', 'hack-bucket-8204707942')\n"
   ]
  },
  {
   "cell_type": "code",
   "execution_count": 27,
   "id": "4506ca55-72bd-4ff0-89b6-6cb1d65d82a1",
   "metadata": {},
   "outputs": [
    {
     "data": {
      "text/plain": [
       "[-0.32279325, 50.82129625, 1]"
      ]
     },
     "execution_count": 27,
     "metadata": {},
     "output_type": "execute_result"
    }
   ],
   "source": [
    "rust_lookup_latlong_list[1]"
   ]
  },
  {
   "cell_type": "code",
   "execution_count": 26,
   "id": "53ce739c-f8c5-499e-8694-96dc79bbcc2c",
   "metadata": {},
   "outputs": [],
   "source": [
    "save_json_file(rust_lookup_latlong_list, 'rust_lookup_long_lat_pt_class_list.json', 'hack-bucket-8204707942')\n",
    "\n",
    "\n",
    "\n"
   ]
  },
  {
   "cell_type": "code",
   "execution_count": null,
   "id": "9b92dc09-e00b-46c1-93dd-10c0ff9faa26",
   "metadata": {},
   "outputs": [],
   "source": []
  },
  {
   "cell_type": "code",
   "execution_count": null,
   "id": "6e45d141-a2c4-4fc3-aa46-320815327d9c",
   "metadata": {},
   "outputs": [],
   "source": []
  },
  {
   "cell_type": "code",
   "execution_count": null,
   "id": "7ac85247-a154-4ba2-a915-4fd153d39104",
   "metadata": {},
   "outputs": [],
   "source": []
  },
  {
   "cell_type": "code",
   "execution_count": 11,
   "id": "c0ae7d0f-9761-4595-be9e-a176628390a2",
   "metadata": {},
   "outputs": [],
   "source": [
    "\n",
    "\n",
    "import polars as pl\n",
    "import pandas as pd\n",
    "import numpy as np\n",
    "from google.cloud import storage\n",
    "import time\n",
    "\n",
    "\n",
    "import sys\n",
    "sys.path.append('/home/jupyter/connectivity/funcs')\n",
    "from src import *\n",
    "\n",
    "\n",
    "time_of_day_weights = pl.read_csv('gs://connectivity-processing-files/time_of_day_weights_purpose_pt.csv')\n",
    "time_of_day_weights = time_of_day_weights.with_columns(pl.col('start_hour').cast(pl.Int32, strict=False).alias('start_hour'))\n",
    "\n"
   ]
  },
  {
   "cell_type": "code",
   "execution_count": 13,
   "id": "bcf968fb-8fc8-48ed-aabd-a0e8de01ec9d",
   "metadata": {},
   "outputs": [
    {
     "data": {
      "text/plain": [
       "['BLACKPOOL_bus_6.00_2022.parquet',\n",
       " 'BLACKPOOL_bus_6.17_2022.parquet',\n",
       " 'BLACKPOOL_bus_6.33_2022.parquet']"
      ]
     },
     "execution_count": 13,
     "metadata": {},
     "output_type": "execute_result"
    }
   ],
   "source": [
    "file_names = [f'{blackpool_string}bus_{start_time_rounded}_{YEAR}.parquet' for start_time_rounded in start_times_rounded]\n",
    "file_names[:3]"
   ]
  },
  {
   "cell_type": "code",
   "execution_count": null,
   "id": "0a9ac381-0417-46db-828e-13add8a0f0b0",
   "metadata": {},
   "outputs": [],
   "source": []
  },
  {
   "cell_type": "code",
   "execution_count": 20,
   "id": "79a777d1-e08d-4300-bbf0-3d7a3fe58590",
   "metadata": {},
   "outputs": [],
   "source": [
    "results_all_start_times = pl.concat(\n",
    "    [pl.read_parquet('gs://planning-results/' + filename).with_columns(pl.lit(start_times_rounded[i]).alias('start_time'))\n",
    "     for i, filename in enumerate(file_names)\n",
    "    ]\n",
    ")\n",
    "\n",
    "\n"
   ]
  },
  {
   "cell_type": "code",
   "execution_count": null,
   "id": "7d1e84de-7e81-4493-9d84-595100e10ba3",
   "metadata": {},
   "outputs": [],
   "source": [
    "results_all_start_times['start_time']"
   ]
  },
  {
   "cell_type": "code",
   "execution_count": null,
   "id": "bc5c960c-0f9e-4b3d-917e-9fa08e9a0310",
   "metadata": {},
   "outputs": [],
   "source": [
    "\n",
    "filename = file_names[0]\n",
    "pl.read_parquet('gs://planning-results/' + filename)"
   ]
  },
  {
   "cell_type": "code",
   "execution_count": null,
   "id": "f7fe0b8a-49d6-407b-af32-15ffc566379c",
   "metadata": {},
   "outputs": [],
   "source": [
    "1"
   ]
  },
  {
   "cell_type": "code",
   "execution_count": null,
   "id": "26a86dff-34bb-44b7-89b9-ba8d7e87c856",
   "metadata": {},
   "outputs": [],
   "source": []
  }
 ],
 "metadata": {
  "environment": {
   "kernel": "python3",
   "name": "common-cpu.m107",
   "type": "gcloud",
   "uri": "gcr.io/deeplearning-platform-release/base-cpu:m107"
  },
  "kernelspec": {
   "display_name": "Python 3",
   "language": "python",
   "name": "python3"
  },
  "language_info": {
   "codemirror_mode": {
    "name": "ipython",
    "version": 3
   },
   "file_extension": ".py",
   "mimetype": "text/x-python",
   "name": "python",
   "nbconvert_exporter": "python",
   "pygments_lexer": "ipython3",
   "version": "3.7.12"
  }
 },
 "nbformat": 4,
 "nbformat_minor": 5
}
